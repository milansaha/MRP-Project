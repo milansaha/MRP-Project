{
 "cells": [
  {
   "cell_type": "code",
   "execution_count": 6,
   "metadata": {},
   "outputs": [
    {
     "name": "stderr",
     "output_type": "stream",
     "text": [
      "[nltk_data] Downloading package stopwords to\n",
      "[nltk_data]     C:\\Users\\msaha\\AppData\\Roaming\\nltk_data...\n",
      "[nltk_data]   Package stopwords is already up-to-date!\n",
      "[nltk_data] Downloading package wordnet to\n",
      "[nltk_data]     C:\\Users\\msaha\\AppData\\Roaming\\nltk_data...\n",
      "[nltk_data]   Package wordnet is already up-to-date!\n"
     ]
    }
   ],
   "source": [
    "import sys\n",
    "import csv\n",
    "import pandas as pd\n",
    "from nltk.corpus import stopwords\n",
    "from nltk.stem import WordNetLemmatizer\n",
    "import numpy as np\n",
    "from sklearn.metrics import accuracy_score\n",
    "\n",
    "from sklearn.feature_extraction.text import TfidfVectorizer, CountVectorizer\n",
    "from sklearn.model_selection import train_test_split, cross_val_score, KFold\n",
    "import matplotlib.pyplot as plt\n",
    "import seaborn as sns\n",
    "\n",
    "import nltk\n",
    "wordnet_lemmatizer = WordNetLemmatizer()\n",
    "nltk.download('stopwords')\n",
    "nltk.download('wordnet')\n",
    "\n",
    "from nltk.tokenize import WordPunctTokenizer\n",
    "tok = WordPunctTokenizer()\n",
    "from bs4 import BeautifulSoup\n",
    "import re\n",
    "import os "
   ]
  },
  {
   "cell_type": "code",
   "execution_count": 7,
   "metadata": {},
   "outputs": [
    {
     "data": {
      "text/plain": [
       "'C:\\\\Users\\\\msaha\\\\MRP'"
      ]
     },
     "execution_count": 7,
     "metadata": {},
     "output_type": "execute_result"
    }
   ],
   "source": [
    "cwd = os.getcwd()\n",
    "os.chdir(\"C:\\\\Users\\\\msaha\\\\Desktop\\\\Office\\\\Wind Invoices\\\\MS_Course\\\\MRP\\\\MRP_Tweet_Final\\\\Analysis\\\\Sentiment_Score\\\\\")\n",
    "cwd"
   ]
  },
  {
   "cell_type": "code",
   "execution_count": 8,
   "metadata": {},
   "outputs": [],
   "source": [
    "pattern_1 = r'@[A-Za-z0-9]+'\n",
    "pattern_2 = r'https?://[A-Za-z0-9./]+'\n",
    "comb_pat = r'|'.join((pattern_1, pattern_2))\n",
    "\n",
    "def tweet_cleaner(text):\n",
    "    sp = BeautifulSoup(text, 'lxml') #by using beautifulSoup package we will decode html to general text to avoid &amp, &quot\n",
    "    sped = sp.get_text()\n",
    "    stripped = re.sub(comb_pat, '', sped)\n",
    "    try:\n",
    "        clean = stripped.encode().decode(\"utf-8-sig\").replace(u\"\\ufffd\", \"?\")\n",
    "    except:\n",
    "        clean = stripped\n",
    "    letters_only = re.sub(\"[^a-zA-Z]\", \" \", clean)\n",
    "    letters_only1 = letters_only.replace('RT','')\n",
    "\n",
    "    letters_only = [word for word in letters_only.split() if word not in stopwords.words('english') + ['amp'] + ['u']]\n",
    "    lower_case = letters_only1.lower() #Here we will get white spaces those are not necessary, we need to tokenize and join these to remove these white spaces. \n",
    "    words = tok.tokenize(lower_case)\n",
    "    return (\" \".join(words)).strip()"
   ]
  },
  {
   "cell_type": "code",
   "execution_count": 9,
   "metadata": {},
   "outputs": [],
   "source": [
    "all_train = pd.read_csv(\"All_Sentiment_Score.csv\", encoding=\"latin-1\")"
   ]
  },
  {
   "cell_type": "code",
   "execution_count": 10,
   "metadata": {},
   "outputs": [
    {
     "data": {
      "text/html": [
       "<div>\n",
       "<style scoped>\n",
       "    .dataframe tbody tr th:only-of-type {\n",
       "        vertical-align: middle;\n",
       "    }\n",
       "\n",
       "    .dataframe tbody tr th {\n",
       "        vertical-align: top;\n",
       "    }\n",
       "\n",
       "    .dataframe thead th {\n",
       "        text-align: right;\n",
       "    }\n",
       "</style>\n",
       "<table border=\"1\" class=\"dataframe\">\n",
       "  <thead>\n",
       "    <tr style=\"text-align: right;\">\n",
       "      <th></th>\n",
       "      <th>text</th>\n",
       "      <th>favoriteCount</th>\n",
       "      <th>replyToSN</th>\n",
       "      <th>created</th>\n",
       "      <th>replyToSID</th>\n",
       "      <th>statusSource</th>\n",
       "      <th>screenName</th>\n",
       "      <th>retweetCount</th>\n",
       "      <th>isRetweet</th>\n",
       "      <th>retweeted</th>\n",
       "      <th>Telco</th>\n",
       "      <th>cleaned_text</th>\n",
       "      <th>blobw</th>\n",
       "      <th>sentiment</th>\n",
       "      <th>Polarity_Score</th>\n",
       "      <th>Subjectivity_Score</th>\n",
       "      <th>Polarity</th>\n",
       "    </tr>\n",
       "  </thead>\n",
       "  <tbody>\n",
       "    <tr>\n",
       "      <th>25097</th>\n",
       "      <td>Visit any of our stores before July 28 to ente...</td>\n",
       "      <td>0</td>\n",
       "      <td>NaN</td>\n",
       "      <td>2019-07-20 18:00</td>\n",
       "      <td>NaN</td>\n",
       "      <td>&lt;a href=\"https://www.loomly.com/\" rel=\"nofollo...</td>\n",
       "      <td>TomHarris</td>\n",
       "      <td>0</td>\n",
       "      <td>False</td>\n",
       "      <td>False</td>\n",
       "      <td>Telus</td>\n",
       "      <td>visit any of our stores before july to enter</td>\n",
       "      <td>visit any of our stores before july to enter</td>\n",
       "      <td>Sentiment(polarity=0.0, subjectivity=0.0)</td>\n",
       "      <td>0.00</td>\n",
       "      <td>0.0</td>\n",
       "      <td>Neutral</td>\n",
       "    </tr>\n",
       "    <tr>\n",
       "      <th>25098</th>\n",
       "      <td>Plus de deux heures dÃattente pour Pitbull au...</td>\n",
       "      <td>0</td>\n",
       "      <td>NaN</td>\n",
       "      <td>2019-07-20 18:04</td>\n",
       "      <td>NaN</td>\n",
       "      <td>&lt;a href=\"https://dlvrit.com/\" rel=\"nofollow\"&gt;d...</td>\n",
       "      <td>icibasstlaurent</td>\n",
       "      <td>0</td>\n",
       "      <td>False</td>\n",
       "      <td>False</td>\n",
       "      <td>Telus</td>\n",
       "      <td>plus de deux heures d attente pour pitbull aux...</td>\n",
       "      <td>plus de deux heures d attente pour pitbull aux...</td>\n",
       "      <td>Sentiment(polarity=0.0, subjectivity=0.0)</td>\n",
       "      <td>0.00</td>\n",
       "      <td>0.0</td>\n",
       "      <td>Neutral</td>\n",
       "    </tr>\n",
       "    <tr>\n",
       "      <th>25099</th>\n",
       "      <td>RT @acroghanlee: ThereÃs no day like #WorldEm...</td>\n",
       "      <td>0</td>\n",
       "      <td>NaN</td>\n",
       "      <td>2019-07-20 18:11</td>\n",
       "      <td>NaN</td>\n",
       "      <td>&lt;a href=\"http://www.jainvarun.com\" rel=\"nofoll...</td>\n",
       "      <td>codervj</td>\n",
       "      <td>1</td>\n",
       "      <td>True</td>\n",
       "      <td>False</td>\n",
       "      <td>Telus</td>\n",
       "      <td>there s no day like worldemojiday to celebrate...</td>\n",
       "      <td>there s no day like worldemojiday to celebrate...</td>\n",
       "      <td>Sentiment(polarity=0.15, subjectivity=0.1)</td>\n",
       "      <td>0.15</td>\n",
       "      <td>0.1</td>\n",
       "      <td>Positive</td>\n",
       "    </tr>\n",
       "    <tr>\n",
       "      <th>25100</th>\n",
       "      <td>RT @NASA: Three space travelers will join the ...</td>\n",
       "      <td>0</td>\n",
       "      <td>NaN</td>\n",
       "      <td>2019-07-20 18:13</td>\n",
       "      <td>NaN</td>\n",
       "      <td>&lt;a href=\"http://twitter.com/download/iphone\" r...</td>\n",
       "      <td>TELUS_Spark</td>\n",
       "      <td>601</td>\n",
       "      <td>True</td>\n",
       "      <td>False</td>\n",
       "      <td>Telus</td>\n",
       "      <td>three space travelers will join the rest of ex...</td>\n",
       "      <td>three space travelers will join the rest of ex...</td>\n",
       "      <td>Sentiment(polarity=0.0, subjectivity=0.0)</td>\n",
       "      <td>0.00</td>\n",
       "      <td>0.0</td>\n",
       "      <td>Neutral</td>\n",
       "    </tr>\n",
       "    <tr>\n",
       "      <th>25101</th>\n",
       "      <td>Love my @onepeloton; but it requires a reliabl...</td>\n",
       "      <td>0</td>\n",
       "      <td>NaN</td>\n",
       "      <td>2019-07-20 18:18</td>\n",
       "      <td>NaN</td>\n",
       "      <td>&lt;a href=\"http://tapbots.com/tweetbot\" rel=\"nof...</td>\n",
       "      <td>buzzbishop</td>\n",
       "      <td>0</td>\n",
       "      <td>False</td>\n",
       "      <td>False</td>\n",
       "      <td>Telus</td>\n",
       "      <td>love my but it requires a reliable internet co...</td>\n",
       "      <td>love my but it requires a reliable internet co...</td>\n",
       "      <td>Sentiment(polarity=0.35, subjectivity=0.4)</td>\n",
       "      <td>0.35</td>\n",
       "      <td>0.4</td>\n",
       "      <td>Positive</td>\n",
       "    </tr>\n",
       "  </tbody>\n",
       "</table>\n",
       "</div>"
      ],
      "text/plain": [
       "                                                    text  favoriteCount  \\\n",
       "25097  Visit any of our stores before July 28 to ente...              0   \n",
       "25098  Plus de deux heures dÃattente pour Pitbull au...              0   \n",
       "25099  RT @acroghanlee: ThereÃs no day like #WorldEm...              0   \n",
       "25100  RT @NASA: Three space travelers will join the ...              0   \n",
       "25101  Love my @onepeloton; but it requires a reliabl...              0   \n",
       "\n",
       "      replyToSN           created  replyToSID  \\\n",
       "25097       NaN  2019-07-20 18:00         NaN   \n",
       "25098       NaN  2019-07-20 18:04         NaN   \n",
       "25099       NaN  2019-07-20 18:11         NaN   \n",
       "25100       NaN  2019-07-20 18:13         NaN   \n",
       "25101       NaN  2019-07-20 18:18         NaN   \n",
       "\n",
       "                                            statusSource       screenName  \\\n",
       "25097  <a href=\"https://www.loomly.com/\" rel=\"nofollo...        TomHarris   \n",
       "25098  <a href=\"https://dlvrit.com/\" rel=\"nofollow\">d...  icibasstlaurent   \n",
       "25099  <a href=\"http://www.jainvarun.com\" rel=\"nofoll...          codervj   \n",
       "25100  <a href=\"http://twitter.com/download/iphone\" r...      TELUS_Spark   \n",
       "25101  <a href=\"http://tapbots.com/tweetbot\" rel=\"nof...       buzzbishop   \n",
       "\n",
       "       retweetCount  isRetweet  retweeted  Telco  \\\n",
       "25097             0      False      False  Telus   \n",
       "25098             0      False      False  Telus   \n",
       "25099             1       True      False  Telus   \n",
       "25100           601       True      False  Telus   \n",
       "25101             0      False      False  Telus   \n",
       "\n",
       "                                            cleaned_text  \\\n",
       "25097       visit any of our stores before july to enter   \n",
       "25098  plus de deux heures d attente pour pitbull aux...   \n",
       "25099  there s no day like worldemojiday to celebrate...   \n",
       "25100  three space travelers will join the rest of ex...   \n",
       "25101  love my but it requires a reliable internet co...   \n",
       "\n",
       "                                                   blobw  \\\n",
       "25097       visit any of our stores before july to enter   \n",
       "25098  plus de deux heures d attente pour pitbull aux...   \n",
       "25099  there s no day like worldemojiday to celebrate...   \n",
       "25100  three space travelers will join the rest of ex...   \n",
       "25101  love my but it requires a reliable internet co...   \n",
       "\n",
       "                                        sentiment  Polarity_Score  \\\n",
       "25097   Sentiment(polarity=0.0, subjectivity=0.0)            0.00   \n",
       "25098   Sentiment(polarity=0.0, subjectivity=0.0)            0.00   \n",
       "25099  Sentiment(polarity=0.15, subjectivity=0.1)            0.15   \n",
       "25100   Sentiment(polarity=0.0, subjectivity=0.0)            0.00   \n",
       "25101  Sentiment(polarity=0.35, subjectivity=0.4)            0.35   \n",
       "\n",
       "       Subjectivity_Score  Polarity  \n",
       "25097                 0.0   Neutral  \n",
       "25098                 0.0   Neutral  \n",
       "25099                 0.1  Positive  \n",
       "25100                 0.0   Neutral  \n",
       "25101                 0.4  Positive  "
      ]
     },
     "execution_count": 10,
     "metadata": {},
     "output_type": "execute_result"
    }
   ],
   "source": [
    "all_train.tail()"
   ]
  },
  {
   "cell_type": "code",
   "execution_count": 11,
   "metadata": {},
   "outputs": [],
   "source": [
    "#Remove unnecessary column from dataframe.\n",
    "all_train.drop(['favoriteCount','replyToSN','created','replyToSID','statusSource'],  axis=1, inplace=True)"
   ]
  },
  {
   "cell_type": "code",
   "execution_count": 12,
   "metadata": {},
   "outputs": [
    {
     "data": {
      "text/plain": [
       "25102"
      ]
     },
     "execution_count": 12,
     "metadata": {},
     "output_type": "execute_result"
    }
   ],
   "source": [
    "sum(all_train.Telco.value_counts())"
   ]
  },
  {
   "cell_type": "code",
   "execution_count": 13,
   "metadata": {},
   "outputs": [
    {
     "data": {
      "text/plain": [
       "Neutral     14009\n",
       "Positive     7960\n",
       "Negative     3133\n",
       "Name: Polarity, dtype: int64"
      ]
     },
     "execution_count": 13,
     "metadata": {},
     "output_type": "execute_result"
    }
   ],
   "source": [
    "all_train.Polarity.value_counts()"
   ]
  },
  {
   "cell_type": "code",
   "execution_count": 14,
   "metadata": {},
   "outputs": [
    {
     "name": "stderr",
     "output_type": "stream",
     "text": [
      "C:\\ProgramData\\Anaconda3\\lib\\site-packages\\bs4\\__init__.py:335: UserWarning: \"https://t.co/bX5AH20nWG\" looks like a URL. Beautiful Soup is not an HTTP client. You should probably use an HTTP client like requests to get the document behind the URL, and feed that document to Beautiful Soup.\n",
      "  ' that document to Beautiful Soup.' % decoded_markup\n",
      "C:\\ProgramData\\Anaconda3\\lib\\site-packages\\bs4\\__init__.py:335: UserWarning: \"https://t.co/vT58ChLAiN\" looks like a URL. Beautiful Soup is not an HTTP client. You should probably use an HTTP client like requests to get the document behind the URL, and feed that document to Beautiful Soup.\n",
      "  ' that document to Beautiful Soup.' % decoded_markup\n",
      "C:\\ProgramData\\Anaconda3\\lib\\site-packages\\bs4\\__init__.py:335: UserWarning: \"https://t.co/OLatmbu8fb\" looks like a URL. Beautiful Soup is not an HTTP client. You should probably use an HTTP client like requests to get the document behind the URL, and feed that document to Beautiful Soup.\n",
      "  ' that document to Beautiful Soup.' % decoded_markup\n",
      "C:\\ProgramData\\Anaconda3\\lib\\site-packages\\bs4\\__init__.py:335: UserWarning: \"https://t.co/0ijrI7Fo9c\" looks like a URL. Beautiful Soup is not an HTTP client. You should probably use an HTTP client like requests to get the document behind the URL, and feed that document to Beautiful Soup.\n",
      "  ' that document to Beautiful Soup.' % decoded_markup\n",
      "C:\\ProgramData\\Anaconda3\\lib\\site-packages\\bs4\\__init__.py:335: UserWarning: \"https://t.co/I9W0BKjV7B\" looks like a URL. Beautiful Soup is not an HTTP client. You should probably use an HTTP client like requests to get the document behind the URL, and feed that document to Beautiful Soup.\n",
      "  ' that document to Beautiful Soup.' % decoded_markup\n",
      "C:\\ProgramData\\Anaconda3\\lib\\site-packages\\bs4\\__init__.py:335: UserWarning: \"https://t.co/5FvOlaySBo\" looks like a URL. Beautiful Soup is not an HTTP client. You should probably use an HTTP client like requests to get the document behind the URL, and feed that document to Beautiful Soup.\n",
      "  ' that document to Beautiful Soup.' % decoded_markup\n",
      "C:\\ProgramData\\Anaconda3\\lib\\site-packages\\bs4\\__init__.py:335: UserWarning: \"https://t.co/Grs8jteHyX\" looks like a URL. Beautiful Soup is not an HTTP client. You should probably use an HTTP client like requests to get the document behind the URL, and feed that document to Beautiful Soup.\n",
      "  ' that document to Beautiful Soup.' % decoded_markup\n",
      "C:\\ProgramData\\Anaconda3\\lib\\site-packages\\bs4\\__init__.py:335: UserWarning: \"https://t.co/WbW2kcgpUa\" looks like a URL. Beautiful Soup is not an HTTP client. You should probably use an HTTP client like requests to get the document behind the URL, and feed that document to Beautiful Soup.\n",
      "  ' that document to Beautiful Soup.' % decoded_markup\n",
      "C:\\ProgramData\\Anaconda3\\lib\\site-packages\\bs4\\__init__.py:335: UserWarning: \"https://t.co/yvhNoiTQDu\" looks like a URL. Beautiful Soup is not an HTTP client. You should probably use an HTTP client like requests to get the document behind the URL, and feed that document to Beautiful Soup.\n",
      "  ' that document to Beautiful Soup.' % decoded_markup\n",
      "C:\\ProgramData\\Anaconda3\\lib\\site-packages\\bs4\\__init__.py:335: UserWarning: \"https://t.co/gGQTsS5tnd\" looks like a URL. Beautiful Soup is not an HTTP client. You should probably use an HTTP client like requests to get the document behind the URL, and feed that document to Beautiful Soup.\n",
      "  ' that document to Beautiful Soup.' % decoded_markup\n",
      "C:\\ProgramData\\Anaconda3\\lib\\site-packages\\bs4\\__init__.py:335: UserWarning: \"https://t.co/C9UE33fOMn\" looks like a URL. Beautiful Soup is not an HTTP client. You should probably use an HTTP client like requests to get the document behind the URL, and feed that document to Beautiful Soup.\n",
      "  ' that document to Beautiful Soup.' % decoded_markup\n",
      "C:\\ProgramData\\Anaconda3\\lib\\site-packages\\bs4\\__init__.py:335: UserWarning: \"https://t.co/wKvHWvzSkv\" looks like a URL. Beautiful Soup is not an HTTP client. You should probably use an HTTP client like requests to get the document behind the URL, and feed that document to Beautiful Soup.\n",
      "  ' that document to Beautiful Soup.' % decoded_markup\n",
      "C:\\ProgramData\\Anaconda3\\lib\\site-packages\\bs4\\__init__.py:335: UserWarning: \"https://t.co/e8KlbmvWES\" looks like a URL. Beautiful Soup is not an HTTP client. You should probably use an HTTP client like requests to get the document behind the URL, and feed that document to Beautiful Soup.\n",
      "  ' that document to Beautiful Soup.' % decoded_markup\n",
      "C:\\ProgramData\\Anaconda3\\lib\\site-packages\\bs4\\__init__.py:335: UserWarning: \"https://t.co/Yaekhzmwb7\" looks like a URL. Beautiful Soup is not an HTTP client. You should probably use an HTTP client like requests to get the document behind the URL, and feed that document to Beautiful Soup.\n",
      "  ' that document to Beautiful Soup.' % decoded_markup\n",
      "C:\\ProgramData\\Anaconda3\\lib\\site-packages\\bs4\\__init__.py:335: UserWarning: \"https://t.co/xPyAkWJTnu\" looks like a URL. Beautiful Soup is not an HTTP client. You should probably use an HTTP client like requests to get the document behind the URL, and feed that document to Beautiful Soup.\n",
      "  ' that document to Beautiful Soup.' % decoded_markup\n",
      "C:\\ProgramData\\Anaconda3\\lib\\site-packages\\bs4\\__init__.py:335: UserWarning: \"https://t.co/bDS9b9bJQd\" looks like a URL. Beautiful Soup is not an HTTP client. You should probably use an HTTP client like requests to get the document behind the URL, and feed that document to Beautiful Soup.\n",
      "  ' that document to Beautiful Soup.' % decoded_markup\n",
      "C:\\ProgramData\\Anaconda3\\lib\\site-packages\\bs4\\__init__.py:335: UserWarning: \"https://t.co/NhdVThUwaH\" looks like a URL. Beautiful Soup is not an HTTP client. You should probably use an HTTP client like requests to get the document behind the URL, and feed that document to Beautiful Soup.\n",
      "  ' that document to Beautiful Soup.' % decoded_markup\n",
      "C:\\ProgramData\\Anaconda3\\lib\\site-packages\\bs4\\__init__.py:335: UserWarning: \"https://t.co/1UwfZvBzcr\" looks like a URL. Beautiful Soup is not an HTTP client. You should probably use an HTTP client like requests to get the document behind the URL, and feed that document to Beautiful Soup.\n",
      "  ' that document to Beautiful Soup.' % decoded_markup\n",
      "C:\\ProgramData\\Anaconda3\\lib\\site-packages\\bs4\\__init__.py:335: UserWarning: \"https://t.co/AoyRBuXVaK\" looks like a URL. Beautiful Soup is not an HTTP client. You should probably use an HTTP client like requests to get the document behind the URL, and feed that document to Beautiful Soup.\n",
      "  ' that document to Beautiful Soup.' % decoded_markup\n",
      "C:\\ProgramData\\Anaconda3\\lib\\site-packages\\bs4\\__init__.py:335: UserWarning: \"https://t.co/3fLDkRYLd7\" looks like a URL. Beautiful Soup is not an HTTP client. You should probably use an HTTP client like requests to get the document behind the URL, and feed that document to Beautiful Soup.\n",
      "  ' that document to Beautiful Soup.' % decoded_markup\n",
      "C:\\ProgramData\\Anaconda3\\lib\\site-packages\\bs4\\__init__.py:335: UserWarning: \"https://t.co/bYD153r1dJ\" looks like a URL. Beautiful Soup is not an HTTP client. You should probably use an HTTP client like requests to get the document behind the URL, and feed that document to Beautiful Soup.\n",
      "  ' that document to Beautiful Soup.' % decoded_markup\n",
      "C:\\ProgramData\\Anaconda3\\lib\\site-packages\\bs4\\__init__.py:335: UserWarning: \"https://t.co/C7EK1i4Y6L\" looks like a URL. Beautiful Soup is not an HTTP client. You should probably use an HTTP client like requests to get the document behind the URL, and feed that document to Beautiful Soup.\n",
      "  ' that document to Beautiful Soup.' % decoded_markup\n",
      "C:\\ProgramData\\Anaconda3\\lib\\site-packages\\bs4\\__init__.py:335: UserWarning: \"https://t.co/zZOFG5WsGE\" looks like a URL. Beautiful Soup is not an HTTP client. You should probably use an HTTP client like requests to get the document behind the URL, and feed that document to Beautiful Soup.\n",
      "  ' that document to Beautiful Soup.' % decoded_markup\n",
      "C:\\ProgramData\\Anaconda3\\lib\\site-packages\\bs4\\__init__.py:335: UserWarning: \"https://t.co/0RcSnCMLRB\" looks like a URL. Beautiful Soup is not an HTTP client. You should probably use an HTTP client like requests to get the document behind the URL, and feed that document to Beautiful Soup.\n",
      "  ' that document to Beautiful Soup.' % decoded_markup\n",
      "C:\\ProgramData\\Anaconda3\\lib\\site-packages\\bs4\\__init__.py:335: UserWarning: \"https://t.co/CdKwqHju8D\" looks like a URL. Beautiful Soup is not an HTTP client. You should probably use an HTTP client like requests to get the document behind the URL, and feed that document to Beautiful Soup.\n",
      "  ' that document to Beautiful Soup.' % decoded_markup\n",
      "C:\\ProgramData\\Anaconda3\\lib\\site-packages\\bs4\\__init__.py:335: UserWarning: \"https://t.co/lpv0EsLVyO\" looks like a URL. Beautiful Soup is not an HTTP client. You should probably use an HTTP client like requests to get the document behind the URL, and feed that document to Beautiful Soup.\n",
      "  ' that document to Beautiful Soup.' % decoded_markup\n",
      "C:\\ProgramData\\Anaconda3\\lib\\site-packages\\bs4\\__init__.py:335: UserWarning: \"https://t.co/bfQWCCw2Y5\" looks like a URL. Beautiful Soup is not an HTTP client. You should probably use an HTTP client like requests to get the document behind the URL, and feed that document to Beautiful Soup.\n",
      "  ' that document to Beautiful Soup.' % decoded_markup\n",
      "C:\\ProgramData\\Anaconda3\\lib\\site-packages\\bs4\\__init__.py:335: UserWarning: \"https://t.co/mC9VGIZWHp\" looks like a URL. Beautiful Soup is not an HTTP client. You should probably use an HTTP client like requests to get the document behind the URL, and feed that document to Beautiful Soup.\n",
      "  ' that document to Beautiful Soup.' % decoded_markup\n",
      "C:\\ProgramData\\Anaconda3\\lib\\site-packages\\bs4\\__init__.py:335: UserWarning: \"https://t.co/HNjeNLWdcS\" looks like a URL. Beautiful Soup is not an HTTP client. You should probably use an HTTP client like requests to get the document behind the URL, and feed that document to Beautiful Soup.\n",
      "  ' that document to Beautiful Soup.' % decoded_markup\n",
      "C:\\ProgramData\\Anaconda3\\lib\\site-packages\\bs4\\__init__.py:335: UserWarning: \"https://t.co/PGD1gEnJlI\" looks like a URL. Beautiful Soup is not an HTTP client. You should probably use an HTTP client like requests to get the document behind the URL, and feed that document to Beautiful Soup.\n",
      "  ' that document to Beautiful Soup.' % decoded_markup\n",
      "C:\\ProgramData\\Anaconda3\\lib\\site-packages\\bs4\\__init__.py:335: UserWarning: \"https://t.co/VZk28xKM1D\" looks like a URL. Beautiful Soup is not an HTTP client. You should probably use an HTTP client like requests to get the document behind the URL, and feed that document to Beautiful Soup.\n",
      "  ' that document to Beautiful Soup.' % decoded_markup\n",
      "C:\\ProgramData\\Anaconda3\\lib\\site-packages\\bs4\\__init__.py:335: UserWarning: \"https://t.co/o8KwWK3Vz5\" looks like a URL. Beautiful Soup is not an HTTP client. You should probably use an HTTP client like requests to get the document behind the URL, and feed that document to Beautiful Soup.\n",
      "  ' that document to Beautiful Soup.' % decoded_markup\n",
      "C:\\ProgramData\\Anaconda3\\lib\\site-packages\\bs4\\__init__.py:335: UserWarning: \"https://t.co/xw34W5VNpG\" looks like a URL. Beautiful Soup is not an HTTP client. You should probably use an HTTP client like requests to get the document behind the URL, and feed that document to Beautiful Soup.\n",
      "  ' that document to Beautiful Soup.' % decoded_markup\n",
      "C:\\ProgramData\\Anaconda3\\lib\\site-packages\\bs4\\__init__.py:335: UserWarning: \"https://t.co/0X8LXGWjZi\" looks like a URL. Beautiful Soup is not an HTTP client. You should probably use an HTTP client like requests to get the document behind the URL, and feed that document to Beautiful Soup.\n",
      "  ' that document to Beautiful Soup.' % decoded_markup\n",
      "C:\\ProgramData\\Anaconda3\\lib\\site-packages\\bs4\\__init__.py:335: UserWarning: \"https://t.co/9FRtYkqxs9\" looks like a URL. Beautiful Soup is not an HTTP client. You should probably use an HTTP client like requests to get the document behind the URL, and feed that document to Beautiful Soup.\n",
      "  ' that document to Beautiful Soup.' % decoded_markup\n",
      "C:\\ProgramData\\Anaconda3\\lib\\site-packages\\bs4\\__init__.py:335: UserWarning: \"https://t.co/Ej7PJqMrBu\" looks like a URL. Beautiful Soup is not an HTTP client. You should probably use an HTTP client like requests to get the document behind the URL, and feed that document to Beautiful Soup.\n",
      "  ' that document to Beautiful Soup.' % decoded_markup\n",
      "C:\\ProgramData\\Anaconda3\\lib\\site-packages\\bs4\\__init__.py:335: UserWarning: \"https://t.co/9KRTdfeoVw\" looks like a URL. Beautiful Soup is not an HTTP client. You should probably use an HTTP client like requests to get the document behind the URL, and feed that document to Beautiful Soup.\n",
      "  ' that document to Beautiful Soup.' % decoded_markup\n",
      "C:\\ProgramData\\Anaconda3\\lib\\site-packages\\bs4\\__init__.py:335: UserWarning: \"https://t.co/sCwTdPDDRN\" looks like a URL. Beautiful Soup is not an HTTP client. You should probably use an HTTP client like requests to get the document behind the URL, and feed that document to Beautiful Soup.\n",
      "  ' that document to Beautiful Soup.' % decoded_markup\n",
      "C:\\ProgramData\\Anaconda3\\lib\\site-packages\\bs4\\__init__.py:335: UserWarning: \"https://t.co/D2tjdD97ZT\" looks like a URL. Beautiful Soup is not an HTTP client. You should probably use an HTTP client like requests to get the document behind the URL, and feed that document to Beautiful Soup.\n",
      "  ' that document to Beautiful Soup.' % decoded_markup\n",
      "C:\\ProgramData\\Anaconda3\\lib\\site-packages\\bs4\\__init__.py:335: UserWarning: \"https://t.co/IrQv6sNa4S\" looks like a URL. Beautiful Soup is not an HTTP client. You should probably use an HTTP client like requests to get the document behind the URL, and feed that document to Beautiful Soup.\n",
      "  ' that document to Beautiful Soup.' % decoded_markup\n",
      "C:\\ProgramData\\Anaconda3\\lib\\site-packages\\bs4\\__init__.py:335: UserWarning: \"https://t.co/GYOR8qzg1e\" looks like a URL. Beautiful Soup is not an HTTP client. You should probably use an HTTP client like requests to get the document behind the URL, and feed that document to Beautiful Soup.\n",
      "  ' that document to Beautiful Soup.' % decoded_markup\n",
      "C:\\ProgramData\\Anaconda3\\lib\\site-packages\\bs4\\__init__.py:335: UserWarning: \"https://t.co/oY1MoIcOFU\" looks like a URL. Beautiful Soup is not an HTTP client. You should probably use an HTTP client like requests to get the document behind the URL, and feed that document to Beautiful Soup.\n",
      "  ' that document to Beautiful Soup.' % decoded_markup\n",
      "C:\\ProgramData\\Anaconda3\\lib\\site-packages\\bs4\\__init__.py:335: UserWarning: \"https://t.co/L8Lk7bGEp3\" looks like a URL. Beautiful Soup is not an HTTP client. You should probably use an HTTP client like requests to get the document behind the URL, and feed that document to Beautiful Soup.\n",
      "  ' that document to Beautiful Soup.' % decoded_markup\n",
      "C:\\ProgramData\\Anaconda3\\lib\\site-packages\\bs4\\__init__.py:335: UserWarning: \"https://t.co/p9sOTSYmSc\" looks like a URL. Beautiful Soup is not an HTTP client. You should probably use an HTTP client like requests to get the document behind the URL, and feed that document to Beautiful Soup.\n",
      "  ' that document to Beautiful Soup.' % decoded_markup\n",
      "C:\\ProgramData\\Anaconda3\\lib\\site-packages\\bs4\\__init__.py:335: UserWarning: \"https://t.co/fFVPnuUUDY\" looks like a URL. Beautiful Soup is not an HTTP client. You should probably use an HTTP client like requests to get the document behind the URL, and feed that document to Beautiful Soup.\n",
      "  ' that document to Beautiful Soup.' % decoded_markup\n",
      "C:\\ProgramData\\Anaconda3\\lib\\site-packages\\bs4\\__init__.py:335: UserWarning: \"https://t.co/9iVS0VU6Zt\" looks like a URL. Beautiful Soup is not an HTTP client. You should probably use an HTTP client like requests to get the document behind the URL, and feed that document to Beautiful Soup.\n",
      "  ' that document to Beautiful Soup.' % decoded_markup\n",
      "C:\\ProgramData\\Anaconda3\\lib\\site-packages\\bs4\\__init__.py:335: UserWarning: \"https://t.co/rcvtnewWW1\" looks like a URL. Beautiful Soup is not an HTTP client. You should probably use an HTTP client like requests to get the document behind the URL, and feed that document to Beautiful Soup.\n",
      "  ' that document to Beautiful Soup.' % decoded_markup\n",
      "C:\\ProgramData\\Anaconda3\\lib\\site-packages\\bs4\\__init__.py:335: UserWarning: \"https://t.co/MM08nHS4l3\" looks like a URL. Beautiful Soup is not an HTTP client. You should probably use an HTTP client like requests to get the document behind the URL, and feed that document to Beautiful Soup.\n",
      "  ' that document to Beautiful Soup.' % decoded_markup\n",
      "C:\\ProgramData\\Anaconda3\\lib\\site-packages\\bs4\\__init__.py:335: UserWarning: \"https://t.co/N8DkDFL15S\" looks like a URL. Beautiful Soup is not an HTTP client. You should probably use an HTTP client like requests to get the document behind the URL, and feed that document to Beautiful Soup.\n",
      "  ' that document to Beautiful Soup.' % decoded_markup\n",
      "C:\\ProgramData\\Anaconda3\\lib\\site-packages\\bs4\\__init__.py:335: UserWarning: \"https://t.co/KSToeNFoGQ\" looks like a URL. Beautiful Soup is not an HTTP client. You should probably use an HTTP client like requests to get the document behind the URL, and feed that document to Beautiful Soup.\n",
      "  ' that document to Beautiful Soup.' % decoded_markup\n",
      "C:\\ProgramData\\Anaconda3\\lib\\site-packages\\bs4\\__init__.py:335: UserWarning: \"https://t.co/igtG05KdLJ\" looks like a URL. Beautiful Soup is not an HTTP client. You should probably use an HTTP client like requests to get the document behind the URL, and feed that document to Beautiful Soup.\n",
      "  ' that document to Beautiful Soup.' % decoded_markup\n",
      "C:\\ProgramData\\Anaconda3\\lib\\site-packages\\bs4\\__init__.py:335: UserWarning: \"https://t.co/QJFRpKjInT\n",
      "\n",
      "Enjoy\n",
      "\n",
      "Anton\n",
      "\n",
      "SentÃ¡fromÃ¡myÃ¡BlackBerryÃ¡10Ã¡smartphoneÃ¡onÃ¡theÃ¡TELUSÃ¡network.\" looks like a URL. Beautiful Soup is not an HTTP client. You should probably use an HTTP client like requests to get the document behind the URL, and feed that document to Beautiful Soup.\n",
      "  ' that document to Beautiful Soup.' % decoded_markup\n",
      "C:\\ProgramData\\Anaconda3\\lib\\site-packages\\bs4\\__init__.py:335: UserWarning: \"https://t.co/6XHIt98lFp\" looks like a URL. Beautiful Soup is not an HTTP client. You should probably use an HTTP client like requests to get the document behind the URL, and feed that document to Beautiful Soup.\n",
      "  ' that document to Beautiful Soup.' % decoded_markup\n",
      "C:\\ProgramData\\Anaconda3\\lib\\site-packages\\bs4\\__init__.py:335: UserWarning: \"https://t.co/Jtu2Gex7na\" looks like a URL. Beautiful Soup is not an HTTP client. You should probably use an HTTP client like requests to get the document behind the URL, and feed that document to Beautiful Soup.\n",
      "  ' that document to Beautiful Soup.' % decoded_markup\n",
      "C:\\ProgramData\\Anaconda3\\lib\\site-packages\\bs4\\__init__.py:335: UserWarning: \"https://t.co/EdFeTcLLW4\" looks like a URL. Beautiful Soup is not an HTTP client. You should probably use an HTTP client like requests to get the document behind the URL, and feed that document to Beautiful Soup.\n",
      "  ' that document to Beautiful Soup.' % decoded_markup\n",
      "C:\\ProgramData\\Anaconda3\\lib\\site-packages\\bs4\\__init__.py:335: UserWarning: \"https://t.co/YnEt4PhmoV\n",
      "\n",
      "SentÃ¡fromÃ¡myÃ¡BlackBerryÃ¡10Ã¡smartphoneÃ¡onÃ¡theÃ¡TELUSÃ¡network.\" looks like a URL. Beautiful Soup is not an HTTP client. You should probably use an HTTP client like requests to get the document behind the URL, and feed that document to Beautiful Soup.\n",
      "  ' that document to Beautiful Soup.' % decoded_markup\n",
      "C:\\ProgramData\\Anaconda3\\lib\\site-packages\\bs4\\__init__.py:335: UserWarning: \"https://t.co/YnEt4PhmoV\n",
      "\n",
      "SentÃ¡fromÃ¡myÃ¡BlackBerryÃ¡10Ã¡smartphoneÃ¡onÃ¡theÃ¡TELUSÃ¡network\" looks like a URL. Beautiful Soup is not an HTTP client. You should probably use an HTTP client like requests to get the document behind the URL, and feed that document to Beautiful Soup.\n",
      "  ' that document to Beautiful Soup.' % decoded_markup\n"
     ]
    }
   ],
   "source": [
    "all_train['clean_text'] = all_train['text'].apply(lambda x : tweet_cleaner(x))"
   ]
  },
  {
   "cell_type": "code",
   "execution_count": 15,
   "metadata": {},
   "outputs": [],
   "source": [
    "cnt_vectorizer  = CountVectorizer()\n",
    "train_set_X = cnt_vectorizer.fit_transform(all_train['clean_text'].values.astype('U'))\n"
   ]
  },
  {
   "cell_type": "code",
   "execution_count": 16,
   "metadata": {},
   "outputs": [
    {
     "data": {
      "text/plain": [
       "<25102x30446 sparse matrix of type '<class 'numpy.int64'>'\n",
       "\twith 283321 stored elements in Compressed Sparse Row format>"
      ]
     },
     "execution_count": 16,
     "metadata": {},
     "output_type": "execute_result"
    }
   ],
   "source": [
    "train_set_X"
   ]
  },
  {
   "cell_type": "code",
   "execution_count": 17,
   "metadata": {},
   "outputs": [],
   "source": [
    "train_set_Y = np.where(all_train.Polarity == 'Positive', 1, \n",
    "         (np.where(all_train.Polarity == 'Negative', 2, 3)))"
   ]
  },
  {
   "cell_type": "code",
   "execution_count": 18,
   "metadata": {},
   "outputs": [
    {
     "data": {
      "text/plain": [
       "array([1, 3, 1, ..., 1, 3, 1])"
      ]
     },
     "execution_count": 18,
     "metadata": {},
     "output_type": "execute_result"
    }
   ],
   "source": [
    "train_set_Y"
   ]
  },
  {
   "cell_type": "code",
   "execution_count": 19,
   "metadata": {},
   "outputs": [],
   "source": [
    "kfold = KFold(n_splits = 5, shuffle = True, random_state=1234)"
   ]
  },
  {
   "cell_type": "code",
   "execution_count": 21,
   "metadata": {},
   "outputs": [
    {
     "name": "stdout",
     "output_type": "stream",
     "text": [
      "(25102,)\n",
      "(25102, 30446)\n"
     ]
    }
   ],
   "source": [
    "print (train_set_Y.shape)\n",
    "print (train_set_X.shape)"
   ]
  },
  {
   "cell_type": "code",
   "execution_count": 22,
   "metadata": {},
   "outputs": [
    {
     "name": "stderr",
     "output_type": "stream",
     "text": [
      "C:\\ProgramData\\Anaconda3\\lib\\site-packages\\sklearn\\ensemble\\weight_boosting.py:29: DeprecationWarning: numpy.core.umath_tests is an internal NumPy module and should not be imported. It will be removed in a future NumPy release.\n",
      "  from numpy.core.umath_tests import inner1d\n"
     ]
    }
   ],
   "source": [
    "from sklearn.linear_model import LogisticRegressionCV\n",
    "from sklearn.naive_bayes import MultinomialNB\n",
    "from sklearn.ensemble import RandomForestClassifier\n",
    "from sklearn.neighbors import KNeighborsClassifier\n",
    "from sklearn.ensemble import GradientBoostingClassifier\n",
    "from sklearn.ensemble import RandomForestClassifier, AdaBoostClassifier\n",
    "from sklearn.svm import LinearSVC, SVC\n",
    "from sklearn.metrics import accuracy_score"
   ]
  },
  {
   "cell_type": "code",
   "execution_count": 23,
   "metadata": {},
   "outputs": [],
   "source": [
    "from IPython.display import Image"
   ]
  },
  {
   "cell_type": "code",
   "execution_count": 24,
   "metadata": {},
   "outputs": [
    {
     "name": "stdout",
     "output_type": "stream",
     "text": [
      "0.9381327270087148\n"
     ]
    }
   ],
   "source": [
    "log_cnt_mdl = LogisticRegressionCV()\n",
    "log_count_score = cross_val_score(log_cnt_mdl,\n",
    "                                  train_set_X, train_set_Y,\n",
    "                                  scoring = 'accuracy',\n",
    "                                  cv = kfold.split(train_set_X),\n",
    "                                  n_jobs=-1).mean()\n",
    "print (log_count_score)"
   ]
  },
  {
   "cell_type": "code",
   "execution_count": 25,
   "metadata": {},
   "outputs": [
    {
     "name": "stdout",
     "output_type": "stream",
     "text": [
      "0.945582140666571\n"
     ]
    }
   ],
   "source": [
    "svc_count_model = LinearSVC()\n",
    "svc_count_score = cross_val_score(svc_count_model,\n",
    "                                  train_set_X, train_set_Y,\n",
    "                                  scoring = 'accuracy',\n",
    "                                  cv = kfold.split(train_set_X),\n",
    "                                  n_jobs=-1).mean()\n",
    "print (svc_count_score)"
   ]
  },
  {
   "cell_type": "code",
   "execution_count": 26,
   "metadata": {},
   "outputs": [
    {
     "name": "stdout",
     "output_type": "stream",
     "text": [
      "0.7433270542605519\n"
     ]
    }
   ],
   "source": [
    "nb_count_model = MultinomialNB()\n",
    "nb_count_score = cross_val_score(nb_count_model, \n",
    "                                 train_set_X, train_set_Y,\n",
    "                                 scoring = 'accuracy', \n",
    "                                 cv = kfold.split(train_set_X,),\n",
    "                                 n_jobs=-1).mean()\n",
    "print (nb_count_score)"
   ]
  },
  {
   "cell_type": "code",
   "execution_count": 27,
   "metadata": {},
   "outputs": [
    {
     "name": "stdout",
     "output_type": "stream",
     "text": [
      "0.8101746687815556\n"
     ]
    }
   ],
   "source": [
    "gb_count_model = GradientBoostingClassifier()\n",
    "gb_count_score = cross_val_score(gb_count_model, \n",
    "                                 train_set_X, train_set_Y,\n",
    "                                 scoring = 'accuracy', \n",
    "                                 cv = kfold.split(train_set_X),\n",
    "                                 n_jobs=-1).mean()\n",
    "print (gb_count_score)"
   ]
  },
  {
   "cell_type": "code",
   "execution_count": 28,
   "metadata": {},
   "outputs": [
    {
     "name": "stdout",
     "output_type": "stream",
     "text": [
      "0.8106524072996997\n"
     ]
    }
   ],
   "source": [
    "rf_count_model = RandomForestClassifier()\n",
    "rf_count_score = cross_val_score(rf_count_model, \n",
    "                                 train_set_X, train_set_Y,\n",
    "                                 scoring = 'accuracy', \n",
    "                                 cv = kfold.split(train_set_X),\n",
    "                                 n_jobs=-1).mean()\n",
    "print (rf_count_score)"
   ]
  },
  {
   "cell_type": "code",
   "execution_count": 29,
   "metadata": {},
   "outputs": [],
   "source": [
    "# TF-IDF Vectorizer\n",
    "#Create a list of cleaned tweets\n",
    "tweets = all_train.clean_text.values.astype('U')"
   ]
  },
  {
   "cell_type": "code",
   "execution_count": 30,
   "metadata": {},
   "outputs": [],
   "source": [
    "tfidf_vectorizer = TfidfVectorizer(stop_words=None, max_features=17000, ngram_range=(1, 3))\n",
    "train_set_X = tfidf_vectorizer.fit_transform(tweets) #Transform tweets list into TF-IDV vector"
   ]
  },
  {
   "cell_type": "code",
   "execution_count": 31,
   "metadata": {},
   "outputs": [
    {
     "name": "stdout",
     "output_type": "stream",
     "text": [
      "0.9087323916840109\n"
     ]
    }
   ],
   "source": [
    "log_tfidf_model = LogisticRegressionCV()\n",
    "log_tfidf_score = cross_val_score(log_tfidf_model,\n",
    "                                  train_set_X, train_set_Y,\n",
    "                                  scoring = 'accuracy',\n",
    "                                  cv = kfold.split(train_set_X),\n",
    "                                  n_jobs=-1).mean()\n",
    "print (log_tfidf_score)"
   ]
  },
  {
   "cell_type": "code",
   "execution_count": 32,
   "metadata": {},
   "outputs": [
    {
     "name": "stdout",
     "output_type": "stream",
     "text": [
      "0.9131145444114799\n"
     ]
    }
   ],
   "source": [
    "svc_tfidf_model = LinearSVC()\n",
    "svc_tfidf_score = cross_val_score(svc_tfidf_model,\n",
    "                                  train_set_X, train_set_Y,\n",
    "                                  scoring = 'accuracy',\n",
    "                                  cv = kfold.split(train_set_X),\n",
    "                                  n_jobs=-1).mean()\n",
    "print (svc_tfidf_score)"
   ]
  },
  {
   "cell_type": "code",
   "execution_count": 33,
   "metadata": {},
   "outputs": [
    {
     "name": "stdout",
     "output_type": "stream",
     "text": [
      "0.8110109095583409\n"
     ]
    }
   ],
   "source": [
    "nb_tfidf_model = MultinomialNB()\n",
    "nb_tfidf_score = cross_val_score(nb_tfidf_model, \n",
    "                                 train_set_X, train_set_Y,\n",
    "                                 scoring = 'accuracy', \n",
    "                                 cv = kfold.split(train_set_X,),\n",
    "                                 n_jobs=-1).mean()\n",
    "print (nb_tfidf_score)"
   ]
  },
  {
   "cell_type": "code",
   "execution_count": 34,
   "metadata": {},
   "outputs": [
    {
     "name": "stdout",
     "output_type": "stream",
     "text": [
      "0.8086212330522562\n"
     ]
    }
   ],
   "source": [
    "gb_tfidf_model = GradientBoostingClassifier()\n",
    "gb_tfidf_score = cross_val_score(gb_tfidf_model, \n",
    "                                 train_set_X, train_set_Y,\n",
    "                                 scoring = 'accuracy', \n",
    "                                 cv = kfold.split(train_set_X),\n",
    "                                 n_jobs=-1).mean()\n",
    "print (gb_tfidf_score)"
   ]
  },
  {
   "cell_type": "code",
   "execution_count": 35,
   "metadata": {},
   "outputs": [
    {
     "name": "stdout",
     "output_type": "stream",
     "text": [
      "0.8073864272049424\n"
     ]
    }
   ],
   "source": [
    "rf_tfidf_model  = RandomForestClassifier()\n",
    "rf_tfidf_score = cross_val_score(rf_tfidf_model, \n",
    "                                 train_set_X, train_set_Y,\n",
    "                                 scoring = 'accuracy', \n",
    "                                 cv = kfold.split(train_set_X),\n",
    "                                 n_jobs=-1).mean()\n",
    "print (rf_tfidf_score)"
   ]
  },
  {
   "cell_type": "code",
   "execution_count": 36,
   "metadata": {},
   "outputs": [],
   "source": [
    "selected_model = LinearSVC().fit(train_set_X, train_set_Y)"
   ]
  },
  {
   "cell_type": "code",
   "execution_count": 37,
   "metadata": {},
   "outputs": [
    {
     "data": {
      "text/html": [
       "<div>\n",
       "<style scoped>\n",
       "    .dataframe tbody tr th:only-of-type {\n",
       "        vertical-align: middle;\n",
       "    }\n",
       "\n",
       "    .dataframe tbody tr th {\n",
       "        vertical-align: top;\n",
       "    }\n",
       "\n",
       "    .dataframe thead th {\n",
       "        text-align: right;\n",
       "    }\n",
       "</style>\n",
       "<table border=\"1\" class=\"dataframe\">\n",
       "  <thead>\n",
       "    <tr style=\"text-align: right;\">\n",
       "      <th></th>\n",
       "      <th>label</th>\n",
       "      <th>score</th>\n",
       "    </tr>\n",
       "  </thead>\n",
       "  <tbody>\n",
       "    <tr>\n",
       "      <th>1</th>\n",
       "      <td>svc_count_score</td>\n",
       "      <td>0.945582</td>\n",
       "    </tr>\n",
       "    <tr>\n",
       "      <th>0</th>\n",
       "      <td>log_count_score</td>\n",
       "      <td>0.938133</td>\n",
       "    </tr>\n",
       "    <tr>\n",
       "      <th>6</th>\n",
       "      <td>svc_tfidf_score</td>\n",
       "      <td>0.913115</td>\n",
       "    </tr>\n",
       "    <tr>\n",
       "      <th>5</th>\n",
       "      <td>log_tfidf_score</td>\n",
       "      <td>0.908732</td>\n",
       "    </tr>\n",
       "    <tr>\n",
       "      <th>7</th>\n",
       "      <td>nb_tfidf_score</td>\n",
       "      <td>0.811011</td>\n",
       "    </tr>\n",
       "    <tr>\n",
       "      <th>4</th>\n",
       "      <td>rf_count_score</td>\n",
       "      <td>0.810652</td>\n",
       "    </tr>\n",
       "    <tr>\n",
       "      <th>3</th>\n",
       "      <td>gb_count_score</td>\n",
       "      <td>0.810175</td>\n",
       "    </tr>\n",
       "    <tr>\n",
       "      <th>8</th>\n",
       "      <td>gb_tfidf_score</td>\n",
       "      <td>0.808621</td>\n",
       "    </tr>\n",
       "    <tr>\n",
       "      <th>9</th>\n",
       "      <td>rf_tfidf_score</td>\n",
       "      <td>0.807386</td>\n",
       "    </tr>\n",
       "    <tr>\n",
       "      <th>2</th>\n",
       "      <td>nb_count_score</td>\n",
       "      <td>0.743327</td>\n",
       "    </tr>\n",
       "  </tbody>\n",
       "</table>\n",
       "</div>"
      ],
      "text/plain": [
       "             label     score\n",
       "1  svc_count_score  0.945582\n",
       "0  log_count_score  0.938133\n",
       "6  svc_tfidf_score  0.913115\n",
       "5  log_tfidf_score  0.908732\n",
       "7   nb_tfidf_score  0.811011\n",
       "4   rf_count_score  0.810652\n",
       "3   gb_count_score  0.810175\n",
       "8   gb_tfidf_score  0.808621\n",
       "9   rf_tfidf_score  0.807386\n",
       "2   nb_count_score  0.743327"
      ]
     },
     "metadata": {},
     "output_type": "display_data"
    }
   ],
   "source": [
    "result = {\n",
    "    'label' : ['log_count_score' , 'svc_count_score',\n",
    "               'nb_count_score', 'gb_count_score',\n",
    "              'rf_count_score', 'log_tfidf_score',\n",
    "              'svc_tfidf_score', 'nb_tfidf_score',\n",
    "              'gb_tfidf_score', 'rf_tfidf_score',\n",
    "              ],\n",
    "    'score' : [log_count_score , svc_count_score,\n",
    "               nb_count_score, gb_count_score,\n",
    "              rf_count_score, log_tfidf_score,\n",
    "              svc_tfidf_score, nb_tfidf_score,\n",
    "              gb_tfidf_score, rf_tfidf_score]\n",
    "}\n",
    "\n",
    "df_result = pd.DataFrame(result)\n",
    "display(df_result.sort_values('score', ascending=False))"
   ]
  },
  {
   "cell_type": "code",
   "execution_count": 38,
   "metadata": {},
   "outputs": [
    {
     "data": {
      "image/png": "[encoded data removed]",
      "text/plain": [
       "<Figure size 1080x432 with 1 Axes>"
      ]
     },
     "metadata": {
      "needs_background": "light"
     },
     "output_type": "display_data"
    }
   ],
   "source": [
    "import  seaborn  as sns\n",
    "df_result = df_result.sort_values('score', ascending=False)\n",
    "f, ax = plt.subplots(figsize=(15, 6))\n",
    "sns.set_color_codes(\"pastel\")\n",
    "ax = sns.barplot(x='score', y='label', data=df_result, orient='h')\n",
    "sns.despine(left=True, bottom=True)"
   ]
  },
  {
   "cell_type": "code",
   "execution_count": 39,
   "metadata": {},
   "outputs": [],
   "source": [
    "#oversampling\n",
    "from sklearn.pipeline import Pipeline\n",
    "from sklearn.metrics import accuracy_score\n",
    "from sklearn.model_selection import StratifiedKFold\n",
    "from sklearn.metrics import precision_score, recall_score, f1_score\n",
    "import numpy as np\n",
    "from imblearn.pipeline import make_pipeline\n",
    "from imblearn.over_sampling import ADASYN, SMOTE, RandomOverSampler\n",
    "\n",
    "ROS_pl = make_pipeline(cnt_vectorizer, RandomOverSampler(random_state=777),log_cnt_mdl)\n",
    "SMOTE_pl = make_pipeline(cnt_vectorizer, SMOTE(random_state=777),log_cnt_mdl)\n",
    "ADASYN_pl = make_pipeline(cnt_vectorizer, ADASYN(ratio='minority',random_state=777),log_cnt_mdl)"
   ]
  },
  {
   "cell_type": "code",
   "execution_count": 41,
   "metadata": {},
   "outputs": [],
   "source": [
    "def find_accuracy(splits, X, Y, pipeline, average_method):\n",
    "    \n",
    "    kfold = StratifiedKFold(n_splits=splits, shuffle=True, random_state=777)\n",
    "    accuracy = []\n",
    "    precision = []\n",
    "    recall = []\n",
    "    f1 = []\n",
    "    for train, test in kfold.split(X, Y):\n",
    "        lnr_fit = pipeline.fit(X[train], Y[train])\n",
    "        pred = lnr_fit.predict(X[test])\n",
    "        scr = lnr_fit.score(X[test],Y[test])\n",
    "        \n",
    "        accuracy.append(scr * 100)\n",
    "        precision.append(precision_score(Y[test], pred, average=average_method)*100)\n",
    "        print('              negative    neutral     positive')\n",
    "        print('precision:',precision_score(Y[test], pred, average=None))\n",
    "        recall.append(recall_score(Y[test], pred, average=average_method)*100)\n",
    "        print('recall:   ',recall_score(Y[test], pred, average=None))\n",
    "        f1.append(f1_score(Y[test], pred, average=average_method)*100)\n",
    "        print('f1 score: ',f1_score(Y[test], pred, average=None))\n",
    "        print('-'*50)\n",
    "\n",
    "    print(\"avg. accuracy: %.2f%% (+/- %.2f%%)\" % (np.mean(accuracy), np.std(accuracy)))\n",
    "    print(\"avg. precision: %.2f%% (+/- %.2f%%)\" % (np.mean(precision), np.std(precision)))\n",
    "    print(\"avg. recall: %.2f%% (+/- %.2f%%)\" % (np.mean(recall), np.std(recall)))\n",
    "    print(\"avg. f1 score: %.2f%% (+/- %.2f%%)\" % (np.mean(f1), np.std(f1)))"
   ]
  },
  {
   "cell_type": "code",
   "execution_count": 43,
   "metadata": {},
   "outputs": [],
   "source": [
    "count_lr_pipeline = Pipeline([\n",
    "    ('vectorizer', cnt_vectorizer),\n",
    "    ('classifier', log_cnt_mdl)\n",
    "])"
   ]
  },
  {
   "cell_type": "code",
   "execution_count": 44,
   "metadata": {},
   "outputs": [
    {
     "name": "stdout",
     "output_type": "stream",
     "text": [
      "              negative    neutral     positive\n",
      "precision: [0.86749117 0.94176088 0.94270833]\n",
      "recall:    [0.7830941  0.98108494 0.90954774]\n",
      "f1 score:  [0.82313495 0.9610208  0.9258312 ]\n",
      "--------------------------------------------------\n",
      "              negative    neutral     positive\n",
      "precision: [0.8975265  0.95457698 0.94143857]\n",
      "recall:    [0.81020734 0.98251249 0.9290201 ]\n",
      "f1 score:  [0.85163453 0.9683433  0.93518811]\n",
      "--------------------------------------------------\n",
      "              negative    neutral     positive\n",
      "precision: [0.88490566 0.93987772 0.93794441]\n",
      "recall:    [0.74800638 0.98750892 0.91143216]\n",
      "f1 score:  [0.81071737 0.96310477 0.92449825]\n",
      "--------------------------------------------------\n",
      "              negative    neutral     positive\n",
      "precision: [0.89814815 0.94854202 0.94121406]\n",
      "recall:    [0.77476038 0.98679515 0.92525126]\n",
      "f1 score:  [0.83190395 0.96729054 0.9331644 ]\n",
      "--------------------------------------------------\n",
      "              negative    neutral     positive\n",
      "precision: [0.86910995 0.9397139  0.95033113]\n",
      "recall:    [0.79552716 0.98500536 0.90138191]\n",
      "f1 score:  [0.83069224 0.96182674 0.92520954]\n",
      "--------------------------------------------------\n",
      "avg. accuracy: 93.74% (+/- 0.43%)\n",
      "avg. precision: 92.37% (+/- 0.55%)\n",
      "avg. recall: 89.41% (+/- 0.80%)\n",
      "avg. f1 score: 90.76% (+/- 0.65%)\n"
     ]
    }
   ],
   "source": [
    "find_accuracy(5, all_train.clean_text, all_train.Polarity, count_lr_pipeline, 'macro')"
   ]
  },
  {
   "cell_type": "code",
   "execution_count": 45,
   "metadata": {},
   "outputs": [],
   "source": [
    "count_svc_pipeline = Pipeline([\n",
    "    ('vectorizer', cnt_vectorizer),\n",
    "    ('classifier', svc_count_model)\n",
    "])"
   ]
  },
  {
   "cell_type": "code",
   "execution_count": 47,
   "metadata": {},
   "outputs": [
    {
     "name": "stdout",
     "output_type": "stream",
     "text": [
      "              negative    neutral     positive\n",
      "precision: [0.87348354 0.95043029 0.94866797]\n",
      "recall:    [0.80382775 0.98536759 0.91708543]\n",
      "f1 score:  [0.8372093  0.96758367 0.93260939]\n",
      "--------------------------------------------------\n",
      "              negative    neutral     positive\n",
      "precision: [0.92212389 0.96211331 0.95060165]\n",
      "recall:    [0.83094099 0.98786581 0.9428392 ]\n",
      "f1 score:  [0.87416107 0.97481951 0.94670451]\n",
      "--------------------------------------------------\n",
      "              negative    neutral     positive\n",
      "precision: [0.8988764  0.94740437 0.94611931]\n",
      "recall:    [0.76555024 0.99000714 0.92650754]\n",
      "f1 score:  [0.82687339 0.96823735 0.93621073]\n",
      "--------------------------------------------------\n",
      "              negative    neutral     positive\n",
      "precision: [0.89818182 0.95523416 0.94827586]\n",
      "recall:    [0.78913738 0.99000714 0.93278894]\n",
      "f1 score:  [0.84013605 0.97230985 0.94046865]\n",
      "--------------------------------------------------\n",
      "              negative    neutral     positive\n",
      "precision: [0.87068966 0.94825223 0.95726496]\n",
      "recall:    [0.80670927 0.98786148 0.91457286]\n",
      "f1 score:  [0.83747927 0.96765169 0.93543206]\n",
      "--------------------------------------------------\n",
      "avg. accuracy: 94.51% (+/- 0.49%)\n",
      "avg. precision: 93.18% (+/- 0.74%)\n",
      "avg. recall: 90.47% (+/- 0.87%)\n",
      "avg. f1 score: 91.72% (+/- 0.77%)\n"
     ]
    }
   ],
   "source": [
    "find_accuracy(5, all_train.clean_text, all_train.Polarity, count_svc_pipeline, 'macro')"
   ]
  },
  {
   "cell_type": "code",
   "execution_count": 48,
   "metadata": {},
   "outputs": [],
   "source": [
    "count_nb_pipeline = Pipeline([\n",
    "    ('vectorizer', cnt_vectorizer),\n",
    "    ('classifier', nb_count_model)\n",
    "])"
   ]
  },
  {
   "cell_type": "code",
   "execution_count": 49,
   "metadata": {},
   "outputs": [
    {
     "name": "stdout",
     "output_type": "stream",
     "text": [
      "              negative    neutral     positive\n",
      "precision: [0.75730994 0.95474035 0.58643411]\n",
      "recall:    [0.41307815 0.71520343 0.95037688]\n",
      "f1 score:  [0.53457172 0.81779229 0.7253116 ]\n",
      "--------------------------------------------------\n",
      "              negative    neutral     positive\n",
      "precision: [0.82594937 0.95359848 0.58195141]\n",
      "recall:    [0.41626794 0.71877231 0.94786432]\n",
      "f1 score:  [0.55355249 0.81969882 0.72114695]\n",
      "--------------------------------------------------\n",
      "              negative    neutral     positive\n",
      "precision: [0.83601286 0.95837414 0.57421289]\n",
      "recall:    [0.41467305 0.69842969 0.96231156]\n",
      "f1 score:  [0.554371   0.80800991 0.71924883]\n",
      "--------------------------------------------------\n",
      "              negative    neutral     positive\n",
      "precision: [0.82278481 0.96005706 0.58477509]\n",
      "recall:    [0.41533546 0.72055675 0.95540201]\n",
      "f1 score:  [0.55201699 0.82324159 0.72549487]\n",
      "--------------------------------------------------\n",
      "              negative    neutral     positive\n",
      "precision: [0.80246914 0.95267392 0.58597986]\n",
      "recall:    [0.41533546 0.7186719  0.95037688]\n",
      "f1 score:  [0.54736842 0.81929182 0.72496406]\n",
      "--------------------------------------------------\n",
      "avg. accuracy: 75.27% (+/- 0.34%)\n",
      "avg. precision: 78.25% (+/- 0.88%)\n",
      "avg. recall: 69.42% (+/- 0.18%)\n",
      "avg. f1 score: 69.64% (+/- 0.28%)\n"
     ]
    }
   ],
   "source": [
    "find_accuracy(5, all_train.clean_text, all_train.Polarity, count_nb_pipeline, 'macro')"
   ]
  },
  {
   "cell_type": "code",
   "execution_count": 50,
   "metadata": {},
   "outputs": [],
   "source": [
    "count_gb_pipeline = Pipeline([\n",
    "    ('vectorizer', cnt_vectorizer),\n",
    "    ('classifier', gb_count_model)\n",
    "])"
   ]
  },
  {
   "cell_type": "code",
   "execution_count": 52,
   "metadata": {},
   "outputs": [
    {
     "name": "stdout",
     "output_type": "stream",
     "text": [
      "              negative    neutral     positive\n",
      "precision: [0.86909091 0.76789168 0.93078971]\n",
      "recall:    [0.38118022 0.99179158 0.6589196 ]\n",
      "f1 score:  [0.52993348 0.86559726 0.77160721]\n",
      "--------------------------------------------------\n",
      "              negative    neutral     positive\n",
      "precision: [0.88932806 0.76944368 0.93246753]\n",
      "recall:    [0.35885167 0.99214847 0.67650754]\n",
      "f1 score:  [0.51136364 0.86671863 0.78412814]\n",
      "--------------------------------------------------\n",
      "              negative    neutral     positive\n",
      "precision: [0.87037037 0.77703456 0.93637145]\n",
      "recall:    [0.37480064 0.99500357 0.68404523]\n",
      "f1 score:  [0.52396878 0.87261346 0.79056261]\n",
      "--------------------------------------------------\n",
      "              negative    neutral     positive\n",
      "precision: [0.85823755 0.76738411 0.92070485]\n",
      "recall:    [0.35782748 0.99250535 0.65640704]\n",
      "f1 score:  [0.50507328 0.86554622 0.76640997]\n",
      "--------------------------------------------------\n",
      "              negative    neutral     positive\n",
      "precision: [0.84363636 0.76318681 0.92481884]\n",
      "recall:    [0.37060703 0.99178865 0.64133166]\n",
      "f1 score:  [0.51498335 0.86259898 0.7574184 ]\n",
      "--------------------------------------------------\n",
      "avg. accuracy: 81.04% (+/- 0.54%)\n",
      "avg. precision: 85.47% (+/- 0.75%)\n",
      "avg. recall: 67.49% (+/- 0.61%)\n",
      "avg. f1 score: 71.92% (+/- 0.65%)\n"
     ]
    }
   ],
   "source": [
    "find_accuracy(5, all_train.clean_text, all_train.Polarity, count_gb_pipeline, 'macro')"
   ]
  },
  {
   "cell_type": "code",
   "execution_count": 54,
   "metadata": {},
   "outputs": [],
   "source": [
    "count_rf_pipeline = Pipeline([\n",
    "    ('vectorizer', cnt_vectorizer),\n",
    "    ('classifier', rf_count_model)\n",
    "])"
   ]
  },
  {
   "cell_type": "code",
   "execution_count": 55,
   "metadata": {},
   "outputs": [
    {
     "name": "stdout",
     "output_type": "stream",
     "text": [
      "              negative    neutral     positive\n",
      "precision: [0.79104478 0.78271097 0.83210059]\n",
      "recall:    [0.33811802 0.95003569 0.70665829]\n",
      "f1 score:  [0.47374302 0.85829437 0.7642663 ]\n",
      "--------------------------------------------------\n",
      "              negative    neutral     positive\n",
      "precision: [0.79807692 0.80340604 0.84434655]\n",
      "recall:    [0.39712919 0.95967166 0.72236181]\n",
      "f1 score:  [0.53035144 0.87461376 0.77860528]\n",
      "--------------------------------------------------\n",
      "              negative    neutral     positive\n",
      "precision: [0.8        0.79230081 0.81571429]\n",
      "recall:    [0.34449761 0.94753747 0.71733668]\n",
      "f1 score:  [0.48160535 0.86299366 0.76336898]\n",
      "--------------------------------------------------\n",
      "              negative    neutral     positive\n",
      "precision: [0.78709677 0.8        0.86217228]\n",
      "recall:    [0.38977636 0.96359743 0.72298995]\n",
      "f1 score:  [0.52136752 0.87421078 0.78647079]\n",
      "--------------------------------------------------\n",
      "              negative    neutral     positive\n",
      "precision: [0.76623377 0.77855275 0.85511811]\n",
      "recall:    [0.37699681 0.95644413 0.6821608 ]\n",
      "f1 score:  [0.50535332 0.85837872 0.75890985]\n",
      "--------------------------------------------------\n",
      "avg. accuracy: 80.46% (+/- 0.86%)\n",
      "avg. precision: 80.73% (+/- 0.71%)\n",
      "avg. recall: 67.84% (+/- 1.18%)\n",
      "avg. f1 score: 71.28% (+/- 1.24%)\n"
     ]
    }
   ],
   "source": [
    "find_accuracy(5, all_train.clean_text, all_train.Polarity, count_rf_pipeline, 'macro')"
   ]
  },
  {
   "cell_type": "code",
   "execution_count": 56,
   "metadata": {},
   "outputs": [],
   "source": [
    "#Check model score with TFIDF vectorizer\n",
    "\n",
    "tfidf_lr_pipeline = Pipeline([\n",
    "    ('vectorizer', tfidf_vectorizer),\n",
    "    ('classifier', log_tfidf_model)\n",
    "])\n"
   ]
  },
  {
   "cell_type": "code",
   "execution_count": 57,
   "metadata": {},
   "outputs": [
    {
     "name": "stdout",
     "output_type": "stream",
     "text": [
      "              negative    neutral     positive\n",
      "precision: [0.84369115 0.91768293 0.91872562]\n",
      "recall:    [0.71451356 0.96680942 0.88756281]\n",
      "f1 score:  [0.77374784 0.94160584 0.9028754 ]\n",
      "--------------------------------------------------\n",
      "              negative    neutral     positive\n",
      "precision: [0.86728972 0.93026451 0.92      ]\n",
      "recall:    [0.7400319  0.96645253 0.91017588]\n",
      "f1 score:  [0.79862306 0.9480133  0.91506157]\n",
      "--------------------------------------------------\n",
      "              negative    neutral     positive\n",
      "precision: [0.84819734 0.92825266 0.90322581]\n",
      "recall:    [0.71291866 0.96502498 0.89698492]\n",
      "f1 score:  [0.77469671 0.94628171 0.90009455]\n",
      "--------------------------------------------------\n",
      "              negative    neutral     positive\n",
      "precision: [0.88062622 0.92213533 0.9119898 ]\n",
      "recall:    [0.71884984 0.96788009 0.89824121]\n",
      "f1 score:  [0.79155673 0.94445412 0.90506329]\n",
      "--------------------------------------------------\n",
      "              negative    neutral     positive\n",
      "precision: [0.81916817 0.91774744 0.92382812]\n",
      "recall:    [0.72364217 0.96001428 0.89133166]\n",
      "f1 score:  [0.76844784 0.93840516 0.907289  ]\n",
      "--------------------------------------------------\n",
      "avg. accuracy: 91.32% (+/- 0.41%)\n",
      "avg. precision: 89.69% (+/- 0.73%)\n",
      "avg. recall: 86.14% (+/- 0.57%)\n",
      "avg. f1 score: 87.71% (+/- 0.59%)\n"
     ]
    }
   ],
   "source": [
    "find_accuracy(5, all_train.clean_text, all_train.Polarity, tfidf_lr_pipeline, 'macro')"
   ]
  },
  {
   "cell_type": "code",
   "execution_count": 58,
   "metadata": {},
   "outputs": [],
   "source": [
    "tfidf_svc_pipeline = Pipeline([\n",
    "    ('vectorizer', tfidf_vectorizer),\n",
    "    ('classifier', svc_tfidf_model)\n",
    "])"
   ]
  },
  {
   "cell_type": "code",
   "execution_count": 59,
   "metadata": {},
   "outputs": [
    {
     "name": "stdout",
     "output_type": "stream",
     "text": [
      "              negative    neutral     positive\n",
      "precision: [0.872      0.91318865 0.92463958]\n",
      "recall:    [0.6953748  0.97608851 0.88630653]\n",
      "f1 score:  [0.77373558 0.94359151 0.90506735]\n",
      "--------------------------------------------------\n",
      "              negative    neutral     positive\n",
      "precision: [0.91252485 0.92596349 0.93076923]\n",
      "recall:    [0.73205742 0.97751606 0.9120603 ]\n",
      "f1 score:  [0.81238938 0.95104167 0.9213198 ]\n",
      "--------------------------------------------------\n",
      "              negative    neutral     positive\n",
      "precision: [0.88118812 0.91958277 0.91839378]\n",
      "recall:    [0.70972887 0.97537473 0.89070352]\n",
      "f1 score:  [0.78621908 0.94665743 0.90433673]\n",
      "--------------------------------------------------\n",
      "              negative    neutral     positive\n",
      "precision: [0.91041667 0.91719533 0.92491909]\n",
      "recall:    [0.69808307 0.98037116 0.89761307]\n",
      "f1 score:  [0.79023508 0.94773159 0.91106152]\n",
      "--------------------------------------------------\n",
      "              negative    neutral     positive\n",
      "precision: [0.87096774 0.90788161 0.9353562 ]\n",
      "recall:    [0.69009585 0.97465191 0.89070352]\n",
      "f1 score:  [0.77005348 0.94008264 0.91248391]\n",
      "--------------------------------------------------\n",
      "avg. accuracy: 91.71% (+/- 0.51%)\n",
      "avg. precision: 91.10% (+/- 0.79%)\n",
      "avg. recall: 85.91% (+/- 0.79%)\n",
      "avg. f1 score: 88.11% (+/- 0.77%)\n"
     ]
    }
   ],
   "source": [
    "find_accuracy(5, all_train.clean_text, all_train.Polarity, tfidf_svc_pipeline, 'macro')"
   ]
  },
  {
   "cell_type": "code",
   "execution_count": 60,
   "metadata": {},
   "outputs": [],
   "source": [
    "tfidf_nb_pipeline = Pipeline([\n",
    "    ('vectorizer', tfidf_vectorizer),\n",
    "    ('classifier', nb_tfidf_model)\n",
    "])"
   ]
  },
  {
   "cell_type": "code",
   "execution_count": 61,
   "metadata": {},
   "outputs": [
    {
     "name": "stdout",
     "output_type": "stream",
     "text": [
      "              negative    neutral     positive\n",
      "precision: [0.91970803 0.83322663 0.75113636]\n",
      "recall:    [0.20095694 0.9289793  0.83040201]\n",
      "f1 score:  [0.32984293 0.87850152 0.78878282]\n",
      "--------------------------------------------------\n",
      "              negative    neutral     positive\n",
      "precision: [0.96062992 0.83776852 0.74873239]\n",
      "recall:    [0.19457735 0.93254818 0.83479899]\n",
      "f1 score:  [0.32360743 0.88262118 0.78942679]\n",
      "--------------------------------------------------\n",
      "              negative    neutral     positive\n",
      "precision: [0.9296875  0.83890675 0.74761638]\n",
      "recall:    [0.18979266 0.93112063 0.83731156]\n",
      "f1 score:  [0.31523179 0.88261164 0.78992593]\n",
      "--------------------------------------------------\n",
      "              negative    neutral     positive\n",
      "precision: [0.94656489 0.82393701 0.75495916]\n",
      "recall:    [0.19808307 0.93361884 0.81281407]\n",
      "f1 score:  [0.32760898 0.87535553 0.78281912]\n",
      "--------------------------------------------------\n",
      "              negative    neutral     positive\n",
      "precision: [0.97101449 0.8214845  0.77310427]\n",
      "recall:    [0.21405751 0.93645127 0.81972362]\n",
      "f1 score:  [0.35078534 0.87520854 0.79573171]\n",
      "--------------------------------------------------\n",
      "avg. accuracy: 80.76% (+/- 0.22%)\n",
      "avg. precision: 84.39% (+/- 0.73%)\n",
      "avg. recall: 65.30% (+/- 0.28%)\n",
      "avg. f1 score: 66.59% (+/- 0.43%)\n"
     ]
    }
   ],
   "source": [
    "find_accuracy(5, all_train.clean_text, all_train.Polarity, tfidf_nb_pipeline, 'macro')"
   ]
  },
  {
   "cell_type": "code",
   "execution_count": 62,
   "metadata": {},
   "outputs": [],
   "source": [
    "tfidf_gb_pipeline = Pipeline([\n",
    "    ('vectorizer', tfidf_vectorizer),\n",
    "    ('classifier', gb_tfidf_model)\n",
    "])"
   ]
  },
  {
   "cell_type": "code",
   "execution_count": 63,
   "metadata": {},
   "outputs": [
    {
     "name": "stdout",
     "output_type": "stream",
     "text": [
      "              negative    neutral     positive\n",
      "precision: [0.88       0.76803981 0.93002657]\n",
      "recall:    [0.38596491 0.99143469 0.65954774]\n",
      "f1 score:  [0.53658537 0.86555538 0.77177508]\n",
      "--------------------------------------------------\n",
      "              negative    neutral     positive\n",
      "precision: [0.88679245 0.77188108 0.93604149]\n",
      "recall:    [0.37480064 0.99143469 0.68027638]\n",
      "f1 score:  [0.52690583 0.86798938 0.78792288]\n",
      "--------------------------------------------------\n",
      "              negative    neutral     positive\n",
      "precision: [0.86029412 0.77799497 0.93321918]\n",
      "recall:    [0.37320574 0.99428979 0.68467337]\n",
      "f1 score:  [0.52057842 0.87294376 0.78985507]\n",
      "--------------------------------------------------\n",
      "              negative    neutral     positive\n",
      "precision: [0.84269663 0.76946523 0.9222028 ]\n",
      "recall:    [0.35942492 0.9910778  0.66268844]\n",
      "f1 score:  [0.50391937 0.86632351 0.77119883]\n",
      "--------------------------------------------------\n",
      "              negative    neutral     positive\n",
      "precision: [0.83908046 0.76104252 0.91913747]\n",
      "recall:    [0.34984026 0.99036059 0.64258794]\n",
      "f1 score:  [0.49379932 0.8606888  0.75637708]\n",
      "--------------------------------------------------\n",
      "avg. accuracy: 81.07% (+/- 0.64%)\n",
      "avg. precision: 85.32% (+/- 0.94%)\n",
      "avg. recall: 67.54% (+/- 0.85%)\n",
      "avg. f1 score: 71.95% (+/- 0.94%)\n"
     ]
    }
   ],
   "source": [
    "find_accuracy(5, all_train.clean_text, all_train.Polarity, tfidf_gb_pipeline, 'macro')"
   ]
  },
  {
   "cell_type": "code",
   "execution_count": 64,
   "metadata": {},
   "outputs": [],
   "source": [
    "tfidf_rf_pipeline = Pipeline([\n",
    "    ('vectorizer', tfidf_vectorizer),\n",
    "    ('classifier', rf_tfidf_model)\n",
    "])"
   ]
  },
  {
   "cell_type": "code",
   "execution_count": 65,
   "metadata": {},
   "outputs": [
    {
     "name": "stdout",
     "output_type": "stream",
     "text": [
      "              negative    neutral     positive\n",
      "precision: [0.784375   0.7973462  0.82021661]\n",
      "recall:    [0.40031898 0.94361171 0.71356784]\n",
      "f1 score:  [0.53009504 0.86433475 0.76318441]\n",
      "--------------------------------------------------\n",
      "              negative    neutral     positive\n",
      "precision: [0.82153846 0.8038032  0.83947939]\n",
      "recall:    [0.42583732 0.95039258 0.72927136]\n",
      "f1 score:  [0.56092437 0.87097302 0.7805042 ]\n",
      "--------------------------------------------------\n",
      "              negative    neutral     positive\n",
      "precision: [0.75496689 0.79854809 0.81174805]\n",
      "recall:    [0.36363636 0.94218415 0.72047739]\n",
      "f1 score:  [0.49085038 0.86444008 0.76339434]\n",
      "--------------------------------------------------\n",
      "              negative    neutral     positive\n",
      "precision: [0.76811594 0.78411105 0.81590574]\n",
      "recall:    [0.33865815 0.94753747 0.6959799 ]\n",
      "f1 score:  [0.47006652 0.85811248 0.75118644]\n",
      "--------------------------------------------------\n",
      "              negative    neutral     positive\n",
      "precision: [0.76875    0.79502547 0.82745962]\n",
      "recall:    [0.39297125 0.94716173 0.70791457]\n",
      "f1 score:  [0.52008457 0.86445096 0.76303318]\n",
      "--------------------------------------------------\n",
      "avg. accuracy: 80.22% (+/- 0.74%)\n",
      "avg. precision: 79.94% (+/- 1.20%)\n",
      "avg. recall: 68.13% (+/- 1.34%)\n",
      "avg. f1 score: 71.44% (+/- 1.47%)\n"
     ]
    }
   ],
   "source": [
    "find_accuracy(5, all_train.clean_text, all_train.Polarity, tfidf_rf_pipeline, 'macro')"
   ]
  },
  {
   "cell_type": "code",
   "execution_count": 66,
   "metadata": {},
   "outputs": [
    {
     "name": "stdout",
     "output_type": "stream",
     "text": [
      "              negative    neutral     positive\n",
      "precision: [0.83747927 0.9445019  0.94264997]\n",
      "recall:    [0.80542265 0.97787295 0.89824121]\n",
      "f1 score:  [0.82113821 0.96089777 0.91990994]\n",
      "--------------------------------------------------\n",
      "              negative    neutral     positive\n",
      "precision: [0.85385878 0.95969155 0.94162925]\n",
      "recall:    [0.82934609 0.97715917 0.92211055]\n",
      "f1 score:  [0.84142395 0.9683466  0.93176769]\n",
      "--------------------------------------------------\n",
      "              negative    neutral     positive\n",
      "precision: [0.85816876 0.9422617  0.93949252]\n",
      "recall:    [0.76236045 0.98429693 0.90703518]\n",
      "f1 score:  [0.80743243 0.96282074 0.92297859]\n",
      "--------------------------------------------------\n",
      "              negative    neutral     positive\n",
      "precision: [0.86324786 0.9533195  0.94491251]\n",
      "recall:    [0.80670927 0.98394004 0.91582915]\n",
      "f1 score:  [0.83402147 0.96838778 0.93014354]\n",
      "--------------------------------------------------\n",
      "              negative    neutral     positive\n",
      "precision: [0.84132231 0.94408233 0.95263509]\n",
      "recall:    [0.81309904 0.98250625 0.89698492]\n",
      "f1 score:  [0.82696994 0.96291113 0.92397282]\n",
      "--------------------------------------------------\n",
      "avg. accuracy: 93.58% (+/- 0.42%)\n",
      "avg. precision: 91.46% (+/- 0.44%)\n",
      "avg. recall: 89.75% (+/- 0.83%)\n",
      "avg. f1 score: 90.55% (+/- 0.60%)\n"
     ]
    }
   ],
   "source": [
    "#Check accuracy score after applying over sampling with logistic regression classifier\n",
    "find_accuracy(5, all_train.clean_text, all_train.Polarity, ROS_pl, 'macro')"
   ]
  },
  {
   "cell_type": "code",
   "execution_count": 67,
   "metadata": {},
   "outputs": [
    {
     "name": "stdout",
     "output_type": "stream",
     "text": [
      "              negative    neutral     positive\n",
      "precision: [0.83031301 0.94486561 0.94708995]\n",
      "recall:    [0.80382775 0.97858672 0.89949749]\n",
      "f1 score:  [0.81685575 0.96143058 0.92268041]\n",
      "--------------------------------------------------\n",
      "              negative    neutral     positive\n",
      "precision: [0.85858586 0.95668879 0.94053708]\n",
      "recall:    [0.81339713 0.97751606 0.92399497]\n",
      "f1 score:  [0.83538084 0.96699029 0.93219265]\n",
      "--------------------------------------------------\n",
      "              negative    neutral     positive\n",
      "precision: [0.86520947 0.94236016 0.94155844]\n",
      "recall:    [0.75757576 0.98608137 0.91080402]\n",
      "f1 score:  [0.80782313 0.96372515 0.92592593]\n",
      "--------------------------------------------------\n",
      "              negative    neutral     positive\n",
      "precision: [0.85837651 0.95160733 0.94121447]\n",
      "recall:    [0.79392971 0.98251249 0.91520101]\n",
      "f1 score:  [0.82489627 0.96681299 0.92802548]\n",
      "--------------------------------------------------\n",
      "              negative    neutral     positive\n",
      "precision: [0.83084577 0.94193989 0.95362903]\n",
      "recall:    [0.80031949 0.98464834 0.89133166]\n",
      "f1 score:  [0.81529699 0.96282074 0.92142857]\n",
      "--------------------------------------------------\n",
      "avg. accuracy: 93.50% (+/- 0.33%)\n",
      "avg. precision: 91.37% (+/- 0.46%)\n",
      "avg. recall: 89.46% (+/- 0.66%)\n",
      "avg. f1 score: 90.35% (+/- 0.48%)\n"
     ]
    }
   ],
   "source": [
    "find_accuracy(5, all_train.clean_text, all_train.Polarity, SMOTE_pl, 'macro')"
   ]
  },
  {
   "cell_type": "code",
   "execution_count": 68,
   "metadata": {},
   "outputs": [
    {
     "name": "stdout",
     "output_type": "stream",
     "text": [
      "              negative    neutral     positive\n",
      "precision: [0.72751678 0.95561169 0.94152824]\n",
      "recall:    [0.86443381 0.94503926 0.89007538]\n",
      "f1 score:  [0.79008746 0.95029607 0.91507911]\n",
      "--------------------------------------------------\n",
      "              negative    neutral     positive\n",
      "precision: [0.69785082 0.96541575 0.93849206]\n",
      "recall:    [0.88038278 0.93647395 0.89133166]\n",
      "f1 score:  [0.77856135 0.95072464 0.91430412]\n",
      "--------------------------------------------------\n",
      "              negative    neutral     positive\n",
      "precision: [0.71994536 0.95       0.94761585]\n",
      "recall:    [0.84051037 0.94932191 0.88630653]\n",
      "f1 score:  [0.77557027 0.94966084 0.91593638]\n",
      "--------------------------------------------------\n",
      "              negative    neutral     positive\n",
      "precision: [0.68863049 0.95322058 0.95160191]\n",
      "recall:    [0.8514377  0.94539615 0.87688442]\n",
      "f1 score:  [0.76142857 0.94929224 0.91271657]\n",
      "--------------------------------------------------\n",
      "              negative    neutral     positive\n",
      "precision: [0.72530447 0.9486458  0.95894224]\n",
      "recall:    [0.85623003 0.9628704  0.86557789]\n",
      "f1 score:  [0.78534799 0.95570517 0.90987124]\n",
      "--------------------------------------------------\n",
      "avg. accuracy: 91.58% (+/- 0.23%)\n",
      "avg. precision: 87.14% (+/- 0.48%)\n",
      "avg. recall: 89.62% (+/- 0.45%)\n",
      "avg. f1 score: 88.10% (+/- 0.37%)\n"
     ]
    }
   ],
   "source": [
    "find_accuracy(5, all_train.clean_text, all_train.Polarity, ADASYN_pl, 'macro')"
   ]
  },
  {
   "cell_type": "code",
   "execution_count": 69,
   "metadata": {},
   "outputs": [],
   "source": [
    "#Check accuracy score after applying over sampling with Linear SVC classifier\n",
    "ROS_pl_svc = make_pipeline(cnt_vectorizer, RandomOverSampler(random_state=777),svc_count_model)\n",
    "SMOTE_pl_svc = make_pipeline(cnt_vectorizer, SMOTE(random_state=777),svc_count_model)\n",
    "ADASYN_pl_svc = make_pipeline(cnt_vectorizer, ADASYN(ratio='minority',random_state=777),svc_count_model)\n"
   ]
  },
  {
   "cell_type": "code",
   "execution_count": 70,
   "metadata": {},
   "outputs": [
    {
     "name": "stdout",
     "output_type": "stream",
     "text": [
      "              negative    neutral     positive\n",
      "precision: [0.84717608 0.95178633 0.94270833]\n",
      "recall:    [0.81339713 0.9793005  0.90954774]\n",
      "f1 score:  [0.82994304 0.96534741 0.9258312 ]\n",
      "--------------------------------------------------\n",
      "              negative    neutral     positive\n",
      "precision: [0.88195616 0.9629241  0.94391332]\n",
      "recall:    [0.83413078 0.98251249 0.93027638]\n",
      "f1 score:  [0.85737705 0.97261968 0.93704524]\n",
      "--------------------------------------------------\n",
      "              negative    neutral     positive\n",
      "precision: [0.87791741 0.94987985 0.94390716]\n",
      "recall:    [0.77990431 0.98750892 0.91959799]\n",
      "f1 score:  [0.82601351 0.96832896 0.93159402]\n",
      "--------------------------------------------------\n",
      "              negative    neutral     positive\n",
      "precision: [0.8791019  0.95977809 0.95054592]\n",
      "recall:    [0.81309904 0.98786581 0.92964824]\n",
      "f1 score:  [0.84481328 0.97361942 0.93998095]\n",
      "--------------------------------------------------\n",
      "              negative    neutral     positive\n",
      "precision: [0.84116694 0.95238095 0.9581117 ]\n",
      "recall:    [0.82907348 0.98536237 0.90515075]\n",
      "f1 score:  [0.83507643 0.96859098 0.93087855]\n",
      "--------------------------------------------------\n",
      "avg. accuracy: 94.24% (+/- 0.44%)\n",
      "avg. precision: 92.29% (+/- 0.64%)\n",
      "avg. recall: 90.58% (+/- 0.70%)\n",
      "avg. f1 score: 91.38% (+/- 0.60%)\n"
     ]
    }
   ],
   "source": [
    "find_accuracy(5, all_train.clean_text, all_train.Polarity, ROS_pl_svc, 'macro')"
   ]
  },
  {
   "cell_type": "code",
   "execution_count": 71,
   "metadata": {},
   "outputs": [
    {
     "name": "stdout",
     "output_type": "stream",
     "text": [
      "              negative    neutral     positive\n",
      "precision: [0.84551495 0.95219952 0.94582245]\n",
      "recall:    [0.81180223 0.98108494 0.91017588]\n",
      "f1 score:  [0.8283157  0.96642644 0.92765685]\n",
      "--------------------------------------------------\n",
      "              negative    neutral     positive\n",
      "precision: [0.88026981 0.96392294 0.94214876]\n",
      "recall:    [0.83253589 0.9821556  0.93090452]\n",
      "f1 score:  [0.8557377  0.97295386 0.93649289]\n",
      "--------------------------------------------------\n",
      "              negative    neutral     positive\n",
      "precision: [0.88086643 0.95157967 0.94598071]\n",
      "recall:    [0.77830941 0.98893647 0.92399497]\n",
      "f1 score:  [0.82641829 0.96989849 0.9348586 ]\n",
      "--------------------------------------------------\n",
      "              negative    neutral     positive\n",
      "precision: [0.87326389 0.95680719 0.95096774]\n",
      "recall:    [0.80351438 0.9882227  0.9258794 ]\n",
      "f1 score:  [0.83693844 0.97226124 0.93825589]\n",
      "--------------------------------------------------\n",
      "              negative    neutral     positive\n",
      "precision: [0.85008237 0.94914089 0.96005326]\n",
      "recall:    [0.82428115 0.9860764  0.90577889]\n",
      "f1 score:  [0.83698297 0.96725617 0.9321267 ]\n",
      "--------------------------------------------------\n",
      "avg. accuracy: 94.25% (+/- 0.35%)\n",
      "avg. precision: 92.32% (+/- 0.53%)\n",
      "avg. recall: 90.49% (+/- 0.61%)\n",
      "avg. f1 score: 91.35% (+/- 0.49%)\n"
     ]
    }
   ],
   "source": [
    "find_accuracy(5, all_train.clean_text, all_train.Polarity, SMOTE_pl_svc, 'macro')"
   ]
  },
  {
   "cell_type": "code",
   "execution_count": 72,
   "metadata": {},
   "outputs": [
    {
     "name": "stdout",
     "output_type": "stream",
     "text": [
      "              negative    neutral     positive\n",
      "precision: [0.76595745 0.95868946 0.94496021]\n",
      "recall:    [0.86124402 0.96074233 0.8951005 ]\n",
      "f1 score:  [0.81081081 0.9597148  0.91935484]\n",
      "--------------------------------------------------\n",
      "              negative    neutral     positive\n",
      "precision: [0.76077886 0.96756757 0.94891945]\n",
      "recall:    [0.87240829 0.95824411 0.91017588]\n",
      "f1 score:  [0.8127786  0.96288327 0.92914396]\n",
      "--------------------------------------------------\n",
      "              negative    neutral     positive\n",
      "precision: [0.75641026 0.95494856 0.952     ]\n",
      "recall:    [0.84688995 0.96074233 0.89698492]\n",
      "f1 score:  [0.79909707 0.95783668 0.923674  ]\n",
      "--------------------------------------------------\n",
      "              negative    neutral     positive\n",
      "precision: [0.74027778 0.96062992 0.94754316]\n",
      "recall:    [0.8514377  0.95788722 0.89635678]\n",
      "f1 score:  [0.79197623 0.95925661 0.92123951]\n",
      "--------------------------------------------------\n",
      "              negative    neutral     positive\n",
      "precision: [0.74861111 0.95696649 0.96038251]\n",
      "recall:    [0.86102236 0.96858265 0.88316583]\n",
      "f1 score:  [0.80089153 0.96273953 0.92015707]\n",
      "--------------------------------------------------\n",
      "avg. accuracy: 92.79% (+/- 0.24%)\n",
      "avg. precision: 88.83% (+/- 0.32%)\n",
      "avg. recall: 90.54% (+/- 0.44%)\n",
      "avg. f1 score: 89.54% (+/- 0.36%)\n"
     ]
    }
   ],
   "source": [
    "find_accuracy(5, all_train.clean_text, all_train.Polarity, ADASYN_pl_svc, 'macro')"
   ]
  },
  {
   "cell_type": "code",
   "execution_count": 75,
   "metadata": {},
   "outputs": [
    {
     "data": {
      "text/html": [
       "<div>\n",
       "<style scoped>\n",
       "    .dataframe tbody tr th:only-of-type {\n",
       "        vertical-align: middle;\n",
       "    }\n",
       "\n",
       "    .dataframe tbody tr th {\n",
       "        vertical-align: top;\n",
       "    }\n",
       "\n",
       "    .dataframe thead th {\n",
       "        text-align: right;\n",
       "    }\n",
       "</style>\n",
       "<table border=\"1\" class=\"dataframe\">\n",
       "  <thead>\n",
       "    <tr style=\"text-align: right;\">\n",
       "      <th></th>\n",
       "      <th>label</th>\n",
       "      <th>score</th>\n",
       "    </tr>\n",
       "  </thead>\n",
       "  <tbody>\n",
       "    <tr>\n",
       "      <th>1</th>\n",
       "      <td>SVC_SCORE</td>\n",
       "      <td>0.945582</td>\n",
       "    </tr>\n",
       "    <tr>\n",
       "      <th>0</th>\n",
       "      <td>LOG_SCORE</td>\n",
       "      <td>0.938133</td>\n",
       "    </tr>\n",
       "    <tr>\n",
       "      <th>6</th>\n",
       "      <td>svc_tfidf_score</td>\n",
       "      <td>0.913115</td>\n",
       "    </tr>\n",
       "    <tr>\n",
       "      <th>5</th>\n",
       "      <td>log_tfidf_score</td>\n",
       "      <td>0.908732</td>\n",
       "    </tr>\n",
       "    <tr>\n",
       "      <th>7</th>\n",
       "      <td>nb_tfidf_score</td>\n",
       "      <td>0.811011</td>\n",
       "    </tr>\n",
       "    <tr>\n",
       "      <th>4</th>\n",
       "      <td>rf_count_score</td>\n",
       "      <td>0.810652</td>\n",
       "    </tr>\n",
       "    <tr>\n",
       "      <th>3</th>\n",
       "      <td>gb_count_score</td>\n",
       "      <td>0.810175</td>\n",
       "    </tr>\n",
       "    <tr>\n",
       "      <th>8</th>\n",
       "      <td>gb_tfidf_score</td>\n",
       "      <td>0.808621</td>\n",
       "    </tr>\n",
       "    <tr>\n",
       "      <th>9</th>\n",
       "      <td>rf_tfidf_score</td>\n",
       "      <td>0.807386</td>\n",
       "    </tr>\n",
       "    <tr>\n",
       "      <th>2</th>\n",
       "      <td>nb_count_score</td>\n",
       "      <td>0.743327</td>\n",
       "    </tr>\n",
       "  </tbody>\n",
       "</table>\n",
       "</div>"
      ],
      "text/plain": [
       "             label     score\n",
       "1        SVC_SCORE  0.945582\n",
       "0        LOG_SCORE  0.938133\n",
       "6  svc_tfidf_score  0.913115\n",
       "5  log_tfidf_score  0.908732\n",
       "7   nb_tfidf_score  0.811011\n",
       "4   rf_count_score  0.810652\n",
       "3   gb_count_score  0.810175\n",
       "8   gb_tfidf_score  0.808621\n",
       "9   rf_tfidf_score  0.807386\n",
       "2   nb_count_score  0.743327"
      ]
     },
     "metadata": {},
     "output_type": "display_data"
    }
   ],
   "source": [
    "result = {\n",
    "    'label' : ['LOG_SCORE' , 'SVC_SCORE',\n",
    "              'nb_count_score', 'gb_count_score',\n",
    "              'rf_count_score', 'log_tfidf_score',\n",
    "              'svc_tfidf_score', 'nb_tfidf_score',\n",
    "              'gb_tfidf_score', 'rf_tfidf_score',\n",
    "              ],\n",
    "    'score' : [log_count_score , svc_count_score,\n",
    "               nb_count_score, gb_count_score,\n",
    "              rf_count_score, log_tfidf_score,\n",
    "              svc_tfidf_score, nb_tfidf_score,\n",
    "              gb_tfidf_score, rf_tfidf_score]\n",
    "}\n",
    "\n",
    "df_result = pd.DataFrame(result)\n",
    "display(df_result.sort_values('score', ascending=False))"
   ]
  },
  {
   "cell_type": "code",
   "execution_count": 76,
   "metadata": {},
   "outputs": [
    {
     "data": {
      "image/png": "[encoded data removed]",
      "text/plain": [
       "<Figure size 1080x432 with 1 Axes>"
      ]
     },
     "metadata": {
      "needs_background": "light"
     },
     "output_type": "display_data"
    }
   ],
   "source": [
    "import  seaborn  as sns\n",
    "df_result = df_result.sort_values('score', ascending=False)\n",
    "f, ax = plt.subplots(figsize=(15, 6))\n",
    "sns.set_color_codes(\"pastel\")\n",
    "ax = sns.barplot(x='score', y='label', data=df_result, orient='h')\n",
    "sns.despine(left=True, bottom=True)"
   ]
  }
 ],
 "metadata": {
  "kernelspec": {
   "display_name": "Python 3",
   "language": "python",
   "name": "python3"
  },
  "language_info": {
   "codemirror_mode": {
    "name": "ipython",
    "version": 3
   },
   "file_extension": ".py",
   "mimetype": "text/x-python",
   "name": "python",
   "nbconvert_exporter": "python",
   "pygments_lexer": "ipython3",
   "version": "3.7.2"
  }
 },
 "nbformat": 4,
 "nbformat_minor": 2
}
